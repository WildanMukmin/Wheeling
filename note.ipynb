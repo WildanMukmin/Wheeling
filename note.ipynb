{
 "cells": [
  {
   "cell_type": "markdown",
   "metadata": {},
   "source": [
    "# struktur dan Basis data nya\n",
    "akan ada sekitar 6 aspek poin\n",
    "\n",
    "1. keseimbangan \n",
    "2. kekuatan\n",
    "3. flexibilitas\n",
    "4. ketahanan\n",
    "5. core\n",
    "6. kemauan \n",
    "\n",
    "masing masing aspek akan ada pada rentang 1-100\n",
    "dimana masing maisng poin akan menunjukan potensi tertentu"
   ]
  }
 ],
 "metadata": {
  "language_info": {
   "name": "python"
  }
 },
 "nbformat": 4,
 "nbformat_minor": 2
}
